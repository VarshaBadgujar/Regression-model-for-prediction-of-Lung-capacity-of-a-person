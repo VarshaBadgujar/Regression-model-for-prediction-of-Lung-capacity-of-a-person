{
 "cells": [
  {
   "cell_type": "markdown",
   "metadata": {},
   "source": [
    "# To Predict the Lung Capacity of a person based on certain parameters"
   ]
  },
  {
   "cell_type": "code",
   "execution_count": 1,
   "metadata": {},
   "outputs": [],
   "source": [
    "\n",
    "# Importing Required Libraries\n",
    "import numpy as np\n",
    "import matplotlib.pyplot as plt\n",
    "import pandas as pd\n",
    "import seaborn as sns\n",
    "from sklearn.model_selection import train_test_split\n",
    "\n"
   ]
  },
  {
   "cell_type": "code",
   "execution_count": 2,
   "metadata": {},
   "outputs": [],
   "source": [
    "#Load the data into the data frame. \n",
    "df=pd.read_csv(\"LungCapData.csv\")"
   ]
  },
  {
   "cell_type": "code",
   "execution_count": 3,
   "metadata": {},
   "outputs": [
    {
     "name": "stdout",
     "output_type": "stream",
     "text": [
      "<class 'pandas.core.frame.DataFrame'>\n",
      "RangeIndex: 654 entries, 0 to 653\n",
      "Data columns (total 5 columns):\n",
      " #   Column   Non-Null Count  Dtype  \n",
      "---  ------   --------------  -----  \n",
      " 0   LungCap  654 non-null    float64\n",
      " 1   Age      654 non-null    int64  \n",
      " 2   Height   654 non-null    float64\n",
      " 3   Gender   654 non-null    object \n",
      " 4   Smoke    654 non-null    object \n",
      "dtypes: float64(2), int64(1), object(2)\n",
      "memory usage: 25.7+ KB\n"
     ]
    }
   ],
   "source": [
    "# DataFrame information with its datatype\n",
    "df.info()"
   ]
  },
  {
   "cell_type": "code",
   "execution_count": 4,
   "metadata": {},
   "outputs": [
    {
     "data": {
      "text/plain": [
       "LungCap    0\n",
       "Age        0\n",
       "Height     0\n",
       "Gender     0\n",
       "Smoke      0\n",
       "dtype: int64"
      ]
     },
     "execution_count": 4,
     "metadata": {},
     "output_type": "execute_result"
    }
   ],
   "source": [
    "# check for na values\n",
    "#  null/na values =0 \n",
    "# if na present then use SimpleImputer\n",
    "df.isna().sum()"
   ]
  },
  {
   "cell_type": "code",
   "execution_count": 5,
   "metadata": {},
   "outputs": [
    {
     "data": {
      "text/html": [
       "<div>\n",
       "<style scoped>\n",
       "    .dataframe tbody tr th:only-of-type {\n",
       "        vertical-align: middle;\n",
       "    }\n",
       "\n",
       "    .dataframe tbody tr th {\n",
       "        vertical-align: top;\n",
       "    }\n",
       "\n",
       "    .dataframe thead th {\n",
       "        text-align: right;\n",
       "    }\n",
       "</style>\n",
       "<table border=\"1\" class=\"dataframe\">\n",
       "  <thead>\n",
       "    <tr style=\"text-align: right;\">\n",
       "      <th></th>\n",
       "      <th>LungCap</th>\n",
       "      <th>Age</th>\n",
       "      <th>Height</th>\n",
       "      <th>Gender</th>\n",
       "      <th>Smoke</th>\n",
       "    </tr>\n",
       "  </thead>\n",
       "  <tbody>\n",
       "    <tr>\n",
       "      <th>0</th>\n",
       "      <td>3.124</td>\n",
       "      <td>9</td>\n",
       "      <td>57.0</td>\n",
       "      <td>female</td>\n",
       "      <td>no</td>\n",
       "    </tr>\n",
       "    <tr>\n",
       "      <th>1</th>\n",
       "      <td>3.172</td>\n",
       "      <td>8</td>\n",
       "      <td>67.5</td>\n",
       "      <td>female</td>\n",
       "      <td>no</td>\n",
       "    </tr>\n",
       "    <tr>\n",
       "      <th>2</th>\n",
       "      <td>3.160</td>\n",
       "      <td>7</td>\n",
       "      <td>54.5</td>\n",
       "      <td>female</td>\n",
       "      <td>no</td>\n",
       "    </tr>\n",
       "    <tr>\n",
       "      <th>3</th>\n",
       "      <td>2.674</td>\n",
       "      <td>9</td>\n",
       "      <td>53.0</td>\n",
       "      <td>male</td>\n",
       "      <td>no</td>\n",
       "    </tr>\n",
       "    <tr>\n",
       "      <th>4</th>\n",
       "      <td>3.685</td>\n",
       "      <td>9</td>\n",
       "      <td>57.0</td>\n",
       "      <td>male</td>\n",
       "      <td>no</td>\n",
       "    </tr>\n",
       "  </tbody>\n",
       "</table>\n",
       "</div>"
      ],
      "text/plain": [
       "   LungCap  Age  Height  Gender Smoke\n",
       "0    3.124    9    57.0  female    no\n",
       "1    3.172    8    67.5  female    no\n",
       "2    3.160    7    54.5  female    no\n",
       "3    2.674    9    53.0    male    no\n",
       "4    3.685    9    57.0    male    no"
      ]
     },
     "execution_count": 5,
     "metadata": {},
     "output_type": "execute_result"
    }
   ],
   "source": [
    "# To display the 10 rows\n",
    "# top 5 rows\n",
    "df.head() "
   ]
  },
  {
   "cell_type": "code",
   "execution_count": 6,
   "metadata": {},
   "outputs": [
    {
     "data": {
      "text/html": [
       "<div>\n",
       "<style scoped>\n",
       "    .dataframe tbody tr th:only-of-type {\n",
       "        vertical-align: middle;\n",
       "    }\n",
       "\n",
       "    .dataframe tbody tr th {\n",
       "        vertical-align: top;\n",
       "    }\n",
       "\n",
       "    .dataframe thead th {\n",
       "        text-align: right;\n",
       "    }\n",
       "</style>\n",
       "<table border=\"1\" class=\"dataframe\">\n",
       "  <thead>\n",
       "    <tr style=\"text-align: right;\">\n",
       "      <th></th>\n",
       "      <th>LungCap</th>\n",
       "      <th>Age</th>\n",
       "      <th>Height</th>\n",
       "      <th>Gender</th>\n",
       "      <th>Smoke</th>\n",
       "    </tr>\n",
       "  </thead>\n",
       "  <tbody>\n",
       "    <tr>\n",
       "      <th>649</th>\n",
       "      <td>10.810</td>\n",
       "      <td>16</td>\n",
       "      <td>67.0</td>\n",
       "      <td>male</td>\n",
       "      <td>yes</td>\n",
       "    </tr>\n",
       "    <tr>\n",
       "      <th>650</th>\n",
       "      <td>9.181</td>\n",
       "      <td>15</td>\n",
       "      <td>68.0</td>\n",
       "      <td>male</td>\n",
       "      <td>yes</td>\n",
       "    </tr>\n",
       "    <tr>\n",
       "      <th>651</th>\n",
       "      <td>6.559</td>\n",
       "      <td>18</td>\n",
       "      <td>60.0</td>\n",
       "      <td>female</td>\n",
       "      <td>no</td>\n",
       "    </tr>\n",
       "    <tr>\n",
       "      <th>652</th>\n",
       "      <td>6.385</td>\n",
       "      <td>16</td>\n",
       "      <td>63.0</td>\n",
       "      <td>female</td>\n",
       "      <td>yes</td>\n",
       "    </tr>\n",
       "    <tr>\n",
       "      <th>653</th>\n",
       "      <td>7.633</td>\n",
       "      <td>15</td>\n",
       "      <td>66.5</td>\n",
       "      <td>female</td>\n",
       "      <td>no</td>\n",
       "    </tr>\n",
       "  </tbody>\n",
       "</table>\n",
       "</div>"
      ],
      "text/plain": [
       "     LungCap  Age  Height  Gender Smoke\n",
       "649   10.810   16    67.0    male   yes\n",
       "650    9.181   15    68.0    male   yes\n",
       "651    6.559   18    60.0  female    no\n",
       "652    6.385   16    63.0  female   yes\n",
       "653    7.633   15    66.5  female    no"
      ]
     },
     "execution_count": 6,
     "metadata": {},
     "output_type": "execute_result"
    }
   ],
   "source": [
    "#  To display the 10 rows\n",
    "# top 5 rows\n",
    "df.tail() "
   ]
  },
  {
   "cell_type": "code",
   "execution_count": 7,
   "metadata": {},
   "outputs": [
    {
     "data": {
      "text/plain": [
       "(654, 5)"
      ]
     },
     "execution_count": 7,
     "metadata": {},
     "output_type": "execute_result"
    }
   ],
   "source": [
    "# Total number of rows and columns\n",
    "df.shape"
   ]
  },
  {
   "cell_type": "code",
   "execution_count": 8,
   "metadata": {},
   "outputs": [
    {
     "name": "stdout",
     "output_type": "stream",
     "text": [
      "number of duplicate rows:  (3, 5)\n"
     ]
    }
   ],
   "source": [
    "# Rows containing duplicate data\n",
    "dupli_rows_df = df[df.duplicated()]\n",
    "print(\"number of duplicate rows: \", dupli_rows_df.shape)"
   ]
  },
  {
   "cell_type": "code",
   "execution_count": 9,
   "metadata": {},
   "outputs": [],
   "source": [
    "# Dropping the duplicates  ---if present\n",
    "df = df.drop_duplicates()"
   ]
  },
  {
   "cell_type": "code",
   "execution_count": 10,
   "metadata": {},
   "outputs": [
    {
     "data": {
      "text/plain": [
       "(651, 5)"
      ]
     },
     "execution_count": 10,
     "metadata": {},
     "output_type": "execute_result"
    }
   ],
   "source": [
    "# After removing duplicate values , no of columns and rows\n",
    "df.shape"
   ]
  },
  {
   "cell_type": "code",
   "execution_count": 11,
   "metadata": {},
   "outputs": [
    {
     "data": {
      "text/html": [
       "<div>\n",
       "<style scoped>\n",
       "    .dataframe tbody tr th:only-of-type {\n",
       "        vertical-align: middle;\n",
       "    }\n",
       "\n",
       "    .dataframe tbody tr th {\n",
       "        vertical-align: top;\n",
       "    }\n",
       "\n",
       "    .dataframe thead th {\n",
       "        text-align: right;\n",
       "    }\n",
       "</style>\n",
       "<table border=\"1\" class=\"dataframe\">\n",
       "  <thead>\n",
       "    <tr style=\"text-align: right;\">\n",
       "      <th></th>\n",
       "      <th>LungCap</th>\n",
       "      <th>Age</th>\n",
       "      <th>Height</th>\n",
       "    </tr>\n",
       "  </thead>\n",
       "  <tbody>\n",
       "    <tr>\n",
       "      <th>LungCap</th>\n",
       "      <td>1.000000</td>\n",
       "      <td>0.756581</td>\n",
       "      <td>0.868084</td>\n",
       "    </tr>\n",
       "    <tr>\n",
       "      <th>Age</th>\n",
       "      <td>0.756581</td>\n",
       "      <td>1.000000</td>\n",
       "      <td>0.791973</td>\n",
       "    </tr>\n",
       "    <tr>\n",
       "      <th>Height</th>\n",
       "      <td>0.868084</td>\n",
       "      <td>0.791973</td>\n",
       "      <td>1.000000</td>\n",
       "    </tr>\n",
       "  </tbody>\n",
       "</table>\n",
       "</div>"
      ],
      "text/plain": [
       "          LungCap       Age    Height\n",
       "LungCap  1.000000  0.756581  0.868084\n",
       "Age      0.756581  1.000000  0.791973\n",
       "Height   0.868084  0.791973  1.000000"
      ]
     },
     "execution_count": 11,
     "metadata": {},
     "output_type": "execute_result"
    }
   ],
   "source": [
    "# Check Correlation between columns for Linear correlation \n",
    "df.corr()"
   ]
  },
  {
   "cell_type": "code",
   "execution_count": null,
   "metadata": {},
   "outputs": [],
   "source": [
    "# Another way to plot distribution of Lung Capacity using seaborn library"
   ]
  },
  {
   "cell_type": "code",
   "execution_count": 13,
   "metadata": {},
   "outputs": [],
   "source": [
    "# plot the distribution of the target variable 'LungCap'. We will use the distplot function from the seaborn library.\n",
    "# We see that the values of 'LungCap' are distributed normally with few outliers."
   ]
  },
  {
   "cell_type": "code",
   "execution_count": 14,
   "metadata": {},
   "outputs": [
    {
     "data": {
      "image/png": "[encoded data removed]",
      "text/plain": [
       "<Figure size 842.4x595.44 with 1 Axes>"
      ]
     },
     "metadata": {},
     "output_type": "display_data"
    }
   ],
   "source": [
    "sns.set(rc={'figure.figsize':(11.7,8.27)})\n",
    "sns.distplot(df['LungCap'], bins=30)\n",
    "plt.show()"
   ]
  },
  {
   "cell_type": "code",
   "execution_count": 20,
   "metadata": {},
   "outputs": [
    {
     "data": {
      "text/html": [
       "<div>\n",
       "<style scoped>\n",
       "    .dataframe tbody tr th:only-of-type {\n",
       "        vertical-align: middle;\n",
       "    }\n",
       "\n",
       "    .dataframe tbody tr th {\n",
       "        vertical-align: top;\n",
       "    }\n",
       "\n",
       "    .dataframe thead th {\n",
       "        text-align: right;\n",
       "    }\n",
       "</style>\n",
       "<table border=\"1\" class=\"dataframe\">\n",
       "  <thead>\n",
       "    <tr style=\"text-align: right;\">\n",
       "      <th></th>\n",
       "      <th>LungCap</th>\n",
       "      <th>Age</th>\n",
       "      <th>Height</th>\n",
       "    </tr>\n",
       "  </thead>\n",
       "  <tbody>\n",
       "    <tr>\n",
       "      <th>count</th>\n",
       "      <td>651.000000</td>\n",
       "      <td>651.000000</td>\n",
       "      <td>651.000000</td>\n",
       "    </tr>\n",
       "    <tr>\n",
       "      <th>mean</th>\n",
       "      <td>5.909106</td>\n",
       "      <td>9.929339</td>\n",
       "      <td>61.145776</td>\n",
       "    </tr>\n",
       "    <tr>\n",
       "      <th>std</th>\n",
       "      <td>2.605618</td>\n",
       "      <td>2.957325</td>\n",
       "      <td>5.712709</td>\n",
       "    </tr>\n",
       "    <tr>\n",
       "      <th>min</th>\n",
       "      <td>0.373000</td>\n",
       "      <td>3.000000</td>\n",
       "      <td>46.000000</td>\n",
       "    </tr>\n",
       "    <tr>\n",
       "      <th>25%</th>\n",
       "      <td>3.925000</td>\n",
       "      <td>8.000000</td>\n",
       "      <td>57.000000</td>\n",
       "    </tr>\n",
       "    <tr>\n",
       "      <th>50%</th>\n",
       "      <td>5.635000</td>\n",
       "      <td>10.000000</td>\n",
       "      <td>61.500000</td>\n",
       "    </tr>\n",
       "    <tr>\n",
       "      <th>75%</th>\n",
       "      <td>7.351000</td>\n",
       "      <td>12.000000</td>\n",
       "      <td>65.500000</td>\n",
       "    </tr>\n",
       "    <tr>\n",
       "      <th>max</th>\n",
       "      <td>15.379000</td>\n",
       "      <td>19.000000</td>\n",
       "      <td>74.000000</td>\n",
       "    </tr>\n",
       "  </tbody>\n",
       "</table>\n",
       "</div>"
      ],
      "text/plain": [
       "          LungCap         Age      Height\n",
       "count  651.000000  651.000000  651.000000\n",
       "mean     5.909106    9.929339   61.145776\n",
       "std      2.605618    2.957325    5.712709\n",
       "min      0.373000    3.000000   46.000000\n",
       "25%      3.925000    8.000000   57.000000\n",
       "50%      5.635000   10.000000   61.500000\n",
       "75%      7.351000   12.000000   65.500000\n",
       "max     15.379000   19.000000   74.000000"
      ]
     },
     "execution_count": 20,
     "metadata": {},
     "output_type": "execute_result"
    }
   ],
   "source": [
    "# Description of each numeric column\n",
    "# Observation:- Mean value is usually greater than Median value\n",
    "df.describe()"
   ]
  },
  {
   "cell_type": "code",
   "execution_count": 21,
   "metadata": {},
   "outputs": [],
   "source": [
    "# Detecting Outliers\n",
    "# by default median is shown\n",
    "# data spread,outliers,box is drawn on IQR i.e between Q1 and Q3\n",
    "# red line -median and green line-mean\n"
   ]
  },
  {
   "cell_type": "code",
   "execution_count": 22,
   "metadata": {},
   "outputs": [
    {
     "data": {
      "image/png": "[encoded data removed]",
      "text/plain": [
       "<Figure size 842.4x595.44 with 1 Axes>"
      ]
     },
     "metadata": {},
     "output_type": "display_data"
    }
   ],
   "source": [
    "# For Age \n",
    "plt.boxplot(df[\"Age\"],showmeans=True,meanline=True)\n",
    "plt.show()"
   ]
  },
  {
   "cell_type": "code",
   "execution_count": 23,
   "metadata": {},
   "outputs": [
    {
     "data": {
      "image/png": "[encoded data removed]",
      "text/plain": [
       "<Figure size 842.4x595.44 with 1 Axes>"
      ]
     },
     "metadata": {},
     "output_type": "display_data"
    }
   ],
   "source": [
    "# For Height\n",
    "plt.boxplot(df[\"Height\"],showmeans=True,meanline=True)\n",
    "plt.show()"
   ]
  },
  {
   "cell_type": "code",
   "execution_count": 24,
   "metadata": {},
   "outputs": [
    {
     "data": {
      "image/png": "[encoded data removed]",
      "text/plain": [
       "<Figure size 842.4x595.44 with 1 Axes>"
      ]
     },
     "metadata": {},
     "output_type": "display_data"
    }
   ],
   "source": [
    "# For Lung Capacity\n",
    "plt.boxplot(df[\"LungCap\"],showmeans=True,meanline=True)\n",
    "plt.show()"
   ]
  },
  {
   "cell_type": "code",
   "execution_count": 25,
   "metadata": {},
   "outputs": [],
   "source": [
    "# outlier detection and removal using  IQR score technique"
   ]
  },
  {
   "cell_type": "code",
   "execution_count": 26,
   "metadata": {},
   "outputs": [
    {
     "name": "stdout",
     "output_type": "stream",
     "text": [
      "-----------:IQR score:---------\n",
      " LungCap    3.426\n",
      "Age        4.000\n",
      "Height     8.500\n",
      "dtype: float64\n"
     ]
    }
   ],
   "source": [
    "# Quartile calculations:\n",
    "Q1 = df.quantile(0.25)\n",
    "Q3 = df.quantile(0.75)\n",
    "IQR = Q3 - Q1\n",
    "print(\"-----------:IQR score:---------\\n\",IQR)"
   ]
  },
  {
   "cell_type": "code",
   "execution_count": 27,
   "metadata": {},
   "outputs": [
    {
     "data": {
      "text/html": [
       "<div>\n",
       "<style scoped>\n",
       "    .dataframe tbody tr th:only-of-type {\n",
       "        vertical-align: middle;\n",
       "    }\n",
       "\n",
       "    .dataframe tbody tr th {\n",
       "        vertical-align: top;\n",
       "    }\n",
       "\n",
       "    .dataframe thead th {\n",
       "        text-align: right;\n",
       "    }\n",
       "</style>\n",
       "<table border=\"1\" class=\"dataframe\">\n",
       "  <thead>\n",
       "    <tr style=\"text-align: right;\">\n",
       "      <th></th>\n",
       "      <th>LungCap</th>\n",
       "      <th>Age</th>\n",
       "      <th>Height</th>\n",
       "      <th>Gender</th>\n",
       "      <th>Smoke</th>\n",
       "    </tr>\n",
       "  </thead>\n",
       "  <tbody>\n",
       "    <tr>\n",
       "      <th>0</th>\n",
       "      <td>NaN</td>\n",
       "      <td>NaN</td>\n",
       "      <td>NaN</td>\n",
       "      <td>NaN</td>\n",
       "      <td>NaN</td>\n",
       "    </tr>\n",
       "    <tr>\n",
       "      <th>1</th>\n",
       "      <td>NaN</td>\n",
       "      <td>NaN</td>\n",
       "      <td>NaN</td>\n",
       "      <td>NaN</td>\n",
       "      <td>NaN</td>\n",
       "    </tr>\n",
       "    <tr>\n",
       "      <th>2</th>\n",
       "      <td>NaN</td>\n",
       "      <td>NaN</td>\n",
       "      <td>NaN</td>\n",
       "      <td>NaN</td>\n",
       "      <td>NaN</td>\n",
       "    </tr>\n",
       "    <tr>\n",
       "      <th>3</th>\n",
       "      <td>NaN</td>\n",
       "      <td>NaN</td>\n",
       "      <td>NaN</td>\n",
       "      <td>NaN</td>\n",
       "      <td>NaN</td>\n",
       "    </tr>\n",
       "    <tr>\n",
       "      <th>4</th>\n",
       "      <td>NaN</td>\n",
       "      <td>NaN</td>\n",
       "      <td>NaN</td>\n",
       "      <td>NaN</td>\n",
       "      <td>NaN</td>\n",
       "    </tr>\n",
       "    <tr>\n",
       "      <th>...</th>\n",
       "      <td>...</td>\n",
       "      <td>...</td>\n",
       "      <td>...</td>\n",
       "      <td>...</td>\n",
       "      <td>...</td>\n",
       "    </tr>\n",
       "    <tr>\n",
       "      <th>649</th>\n",
       "      <td>NaN</td>\n",
       "      <td>NaN</td>\n",
       "      <td>NaN</td>\n",
       "      <td>NaN</td>\n",
       "      <td>NaN</td>\n",
       "    </tr>\n",
       "    <tr>\n",
       "      <th>650</th>\n",
       "      <td>NaN</td>\n",
       "      <td>NaN</td>\n",
       "      <td>NaN</td>\n",
       "      <td>NaN</td>\n",
       "      <td>NaN</td>\n",
       "    </tr>\n",
       "    <tr>\n",
       "      <th>651</th>\n",
       "      <td>NaN</td>\n",
       "      <td>NaN</td>\n",
       "      <td>NaN</td>\n",
       "      <td>NaN</td>\n",
       "      <td>NaN</td>\n",
       "    </tr>\n",
       "    <tr>\n",
       "      <th>652</th>\n",
       "      <td>NaN</td>\n",
       "      <td>NaN</td>\n",
       "      <td>NaN</td>\n",
       "      <td>NaN</td>\n",
       "      <td>NaN</td>\n",
       "    </tr>\n",
       "    <tr>\n",
       "      <th>653</th>\n",
       "      <td>NaN</td>\n",
       "      <td>NaN</td>\n",
       "      <td>NaN</td>\n",
       "      <td>NaN</td>\n",
       "      <td>NaN</td>\n",
       "    </tr>\n",
       "  </tbody>\n",
       "</table>\n",
       "<p>651 rows × 5 columns</p>\n",
       "</div>"
      ],
      "text/plain": [
       "     LungCap  Age  Height Gender Smoke\n",
       "0        NaN  NaN     NaN    NaN   NaN\n",
       "1        NaN  NaN     NaN    NaN   NaN\n",
       "2        NaN  NaN     NaN    NaN   NaN\n",
       "3        NaN  NaN     NaN    NaN   NaN\n",
       "4        NaN  NaN     NaN    NaN   NaN\n",
       "..       ...  ...     ...    ...   ...\n",
       "649      NaN  NaN     NaN    NaN   NaN\n",
       "650      NaN  NaN     NaN    NaN   NaN\n",
       "651      NaN  NaN     NaN    NaN   NaN\n",
       "652      NaN  NaN     NaN    NaN   NaN\n",
       "653      NaN  NaN     NaN    NaN   NaN\n",
       "\n",
       "[651 rows x 5 columns]"
      ]
     },
     "execution_count": 27,
     "metadata": {},
     "output_type": "execute_result"
    }
   ],
   "source": [
    "# NaN value indicates False ----> means - no outliers\n",
    "# non-NaN (numeric value) indicates True --> means outlier present\n",
    "outliers=df[((df < (Q1 - 1.5 * IQR)) |(df > (Q3 + 1.5 * IQR)))]\n",
    "outliers"
   ]
  },
  {
   "cell_type": "code",
   "execution_count": 28,
   "metadata": {},
   "outputs": [
    {
     "data": {
      "text/plain": [
       "LungCap    135.685\n",
       "Age         57.000\n",
       "Height       0.000\n",
       "Gender       0.000\n",
       "Smoke        0.000\n",
       "dtype: float64"
      ]
     },
     "execution_count": 28,
     "metadata": {},
     "output_type": "execute_result"
    }
   ],
   "source": [
    "outliers.sum()\n",
    "# 2 columns have oultliers"
   ]
  },
  {
   "cell_type": "code",
   "execution_count": 29,
   "metadata": {},
   "outputs": [
    {
     "data": {
      "text/plain": [
       "LungCap    10\n",
       "Age         3\n",
       "Height      0\n",
       "Gender      0\n",
       "Smoke       0\n",
       "dtype: int64"
      ]
     },
     "execution_count": 29,
     "metadata": {},
     "output_type": "execute_result"
    }
   ],
   "source": [
    "# No.of outliers in each column\n",
    "outliers.count()"
   ]
  },
  {
   "cell_type": "code",
   "execution_count": 30,
   "metadata": {},
   "outputs": [
    {
     "data": {
      "text/plain": [
       "13"
      ]
     },
     "execution_count": 30,
     "metadata": {},
     "output_type": "execute_result"
    }
   ],
   "source": [
    "# total outliers\n",
    "outliers.count().sum()"
   ]
  },
  {
   "cell_type": "code",
   "execution_count": 31,
   "metadata": {},
   "outputs": [
    {
     "data": {
      "text/html": [
       "<div>\n",
       "<style scoped>\n",
       "    .dataframe tbody tr th:only-of-type {\n",
       "        vertical-align: middle;\n",
       "    }\n",
       "\n",
       "    .dataframe tbody tr th {\n",
       "        vertical-align: top;\n",
       "    }\n",
       "\n",
       "    .dataframe thead th {\n",
       "        text-align: right;\n",
       "    }\n",
       "</style>\n",
       "<table border=\"1\" class=\"dataframe\">\n",
       "  <thead>\n",
       "    <tr style=\"text-align: right;\">\n",
       "      <th></th>\n",
       "      <th>LungCap</th>\n",
       "      <th>Age</th>\n",
       "      <th>Height</th>\n",
       "      <th>Gender</th>\n",
       "      <th>Smoke</th>\n",
       "    </tr>\n",
       "  </thead>\n",
       "  <tbody>\n",
       "    <tr>\n",
       "      <th>320</th>\n",
       "      <td>12.526</td>\n",
       "      <td>14</td>\n",
       "      <td>72.0</td>\n",
       "      <td>male</td>\n",
       "      <td>no</td>\n",
       "    </tr>\n",
       "    <tr>\n",
       "      <th>451</th>\n",
       "      <td>13.672</td>\n",
       "      <td>12</td>\n",
       "      <td>70.0</td>\n",
       "      <td>male</td>\n",
       "      <td>no</td>\n",
       "    </tr>\n",
       "    <tr>\n",
       "      <th>463</th>\n",
       "      <td>12.631</td>\n",
       "      <td>13</td>\n",
       "      <td>73.0</td>\n",
       "      <td>male</td>\n",
       "      <td>no</td>\n",
       "    </tr>\n",
       "    <tr>\n",
       "      <th>516</th>\n",
       "      <td>13.249</td>\n",
       "      <td>13</td>\n",
       "      <td>74.0</td>\n",
       "      <td>male</td>\n",
       "      <td>no</td>\n",
       "    </tr>\n",
       "    <tr>\n",
       "      <th>562</th>\n",
       "      <td>12.493</td>\n",
       "      <td>12</td>\n",
       "      <td>71.0</td>\n",
       "      <td>male</td>\n",
       "      <td>no</td>\n",
       "    </tr>\n",
       "    <tr>\n",
       "      <th>608</th>\n",
       "      <td>13.306</td>\n",
       "      <td>19</td>\n",
       "      <td>72.0</td>\n",
       "      <td>male</td>\n",
       "      <td>no</td>\n",
       "    </tr>\n",
       "    <tr>\n",
       "      <th>609</th>\n",
       "      <td>8.557</td>\n",
       "      <td>19</td>\n",
       "      <td>66.0</td>\n",
       "      <td>female</td>\n",
       "      <td>yes</td>\n",
       "    </tr>\n",
       "    <tr>\n",
       "      <th>617</th>\n",
       "      <td>8.035</td>\n",
       "      <td>19</td>\n",
       "      <td>65.5</td>\n",
       "      <td>female</td>\n",
       "      <td>yes</td>\n",
       "    </tr>\n",
       "    <tr>\n",
       "      <th>623</th>\n",
       "      <td>15.379</td>\n",
       "      <td>15</td>\n",
       "      <td>69.0</td>\n",
       "      <td>male</td>\n",
       "      <td>no</td>\n",
       "    </tr>\n",
       "    <tr>\n",
       "      <th>631</th>\n",
       "      <td>14.899</td>\n",
       "      <td>17</td>\n",
       "      <td>73.0</td>\n",
       "      <td>male</td>\n",
       "      <td>no</td>\n",
       "    </tr>\n",
       "    <tr>\n",
       "      <th>647</th>\n",
       "      <td>14.914</td>\n",
       "      <td>17</td>\n",
       "      <td>70.0</td>\n",
       "      <td>male</td>\n",
       "      <td>no</td>\n",
       "    </tr>\n",
       "    <tr>\n",
       "      <th>648</th>\n",
       "      <td>12.616</td>\n",
       "      <td>16</td>\n",
       "      <td>72.0</td>\n",
       "      <td>male</td>\n",
       "      <td>yes</td>\n",
       "    </tr>\n",
       "  </tbody>\n",
       "</table>\n",
       "</div>"
      ],
      "text/plain": [
       "     LungCap  Age  Height  Gender Smoke\n",
       "320   12.526   14    72.0    male    no\n",
       "451   13.672   12    70.0    male    no\n",
       "463   12.631   13    73.0    male    no\n",
       "516   13.249   13    74.0    male    no\n",
       "562   12.493   12    71.0    male    no\n",
       "608   13.306   19    72.0    male    no\n",
       "609    8.557   19    66.0  female   yes\n",
       "617    8.035   19    65.5  female   yes\n",
       "623   15.379   15    69.0    male    no\n",
       "631   14.899   17    73.0    male    no\n",
       "647   14.914   17    70.0    male    no\n",
       "648   12.616   16    72.0    male   yes"
      ]
     },
     "execution_count": 31,
     "metadata": {},
     "output_type": "execute_result"
    }
   ],
   "source": [
    "# Display only those rows , having axis=1 i.e True and outliers present\n",
    "\n",
    "outliers=df[((df < (Q1 - 1.5 * IQR)) |(df > (Q3 + 1.5 * IQR))).any(axis=1)]\n",
    "outliers"
   ]
  },
  {
   "cell_type": "code",
   "execution_count": 32,
   "metadata": {},
   "outputs": [
    {
     "data": {
      "text/html": [
       "<div>\n",
       "<style scoped>\n",
       "    .dataframe tbody tr th:only-of-type {\n",
       "        vertical-align: middle;\n",
       "    }\n",
       "\n",
       "    .dataframe tbody tr th {\n",
       "        vertical-align: top;\n",
       "    }\n",
       "\n",
       "    .dataframe thead th {\n",
       "        text-align: right;\n",
       "    }\n",
       "</style>\n",
       "<table border=\"1\" class=\"dataframe\">\n",
       "  <thead>\n",
       "    <tr style=\"text-align: right;\">\n",
       "      <th></th>\n",
       "      <th>LungCap</th>\n",
       "      <th>Age</th>\n",
       "      <th>Height</th>\n",
       "      <th>Gender</th>\n",
       "      <th>Smoke</th>\n",
       "    </tr>\n",
       "  </thead>\n",
       "  <tbody>\n",
       "    <tr>\n",
       "      <th>0</th>\n",
       "      <td>3.124</td>\n",
       "      <td>9</td>\n",
       "      <td>57.0</td>\n",
       "      <td>female</td>\n",
       "      <td>no</td>\n",
       "    </tr>\n",
       "    <tr>\n",
       "      <th>1</th>\n",
       "      <td>3.172</td>\n",
       "      <td>8</td>\n",
       "      <td>67.5</td>\n",
       "      <td>female</td>\n",
       "      <td>no</td>\n",
       "    </tr>\n",
       "    <tr>\n",
       "      <th>2</th>\n",
       "      <td>3.160</td>\n",
       "      <td>7</td>\n",
       "      <td>54.5</td>\n",
       "      <td>female</td>\n",
       "      <td>no</td>\n",
       "    </tr>\n",
       "    <tr>\n",
       "      <th>3</th>\n",
       "      <td>2.674</td>\n",
       "      <td>9</td>\n",
       "      <td>53.0</td>\n",
       "      <td>male</td>\n",
       "      <td>no</td>\n",
       "    </tr>\n",
       "    <tr>\n",
       "      <th>4</th>\n",
       "      <td>3.685</td>\n",
       "      <td>9</td>\n",
       "      <td>57.0</td>\n",
       "      <td>male</td>\n",
       "      <td>no</td>\n",
       "    </tr>\n",
       "    <tr>\n",
       "      <th>...</th>\n",
       "      <td>...</td>\n",
       "      <td>...</td>\n",
       "      <td>...</td>\n",
       "      <td>...</td>\n",
       "      <td>...</td>\n",
       "    </tr>\n",
       "    <tr>\n",
       "      <th>649</th>\n",
       "      <td>10.810</td>\n",
       "      <td>16</td>\n",
       "      <td>67.0</td>\n",
       "      <td>male</td>\n",
       "      <td>yes</td>\n",
       "    </tr>\n",
       "    <tr>\n",
       "      <th>650</th>\n",
       "      <td>9.181</td>\n",
       "      <td>15</td>\n",
       "      <td>68.0</td>\n",
       "      <td>male</td>\n",
       "      <td>yes</td>\n",
       "    </tr>\n",
       "    <tr>\n",
       "      <th>651</th>\n",
       "      <td>6.559</td>\n",
       "      <td>18</td>\n",
       "      <td>60.0</td>\n",
       "      <td>female</td>\n",
       "      <td>no</td>\n",
       "    </tr>\n",
       "    <tr>\n",
       "      <th>652</th>\n",
       "      <td>6.385</td>\n",
       "      <td>16</td>\n",
       "      <td>63.0</td>\n",
       "      <td>female</td>\n",
       "      <td>yes</td>\n",
       "    </tr>\n",
       "    <tr>\n",
       "      <th>653</th>\n",
       "      <td>7.633</td>\n",
       "      <td>15</td>\n",
       "      <td>66.5</td>\n",
       "      <td>female</td>\n",
       "      <td>no</td>\n",
       "    </tr>\n",
       "  </tbody>\n",
       "</table>\n",
       "<p>639 rows × 5 columns</p>\n",
       "</div>"
      ],
      "text/plain": [
       "     LungCap  Age  Height  Gender Smoke\n",
       "0      3.124    9    57.0  female    no\n",
       "1      3.172    8    67.5  female    no\n",
       "2      3.160    7    54.5  female    no\n",
       "3      2.674    9    53.0    male    no\n",
       "4      3.685    9    57.0    male    no\n",
       "..       ...  ...     ...     ...   ...\n",
       "649   10.810   16    67.0    male   yes\n",
       "650    9.181   15    68.0    male   yes\n",
       "651    6.559   18    60.0  female    no\n",
       "652    6.385   16    63.0  female   yes\n",
       "653    7.633   15    66.5  female    no\n",
       "\n",
       "[639 rows x 5 columns]"
      ]
     },
     "execution_count": 32,
     "metadata": {},
     "output_type": "execute_result"
    }
   ],
   "source": [
    "# ((df < (Q1 - 1.5 * IQR)) |(df > (Q3 + 1.5 * IQR) is boolean mask-so we can use it to remove outliers\n",
    "# masking the outliers by using '~' to exclude from original dataset\n",
    "mask = df[~((df < (Q1 - 1.5 * IQR)) |(df > (Q3 + 1.5 * IQR))).any(axis=1)]\n",
    "mask\n"
   ]
  },
  {
   "cell_type": "code",
   "execution_count": 33,
   "metadata": {},
   "outputs": [
    {
     "data": {
      "text/plain": [
       "LungCap    639\n",
       "Age        639\n",
       "Height     639\n",
       "Gender     639\n",
       "Smoke      639\n",
       "dtype: int64"
      ]
     },
     "execution_count": 33,
     "metadata": {},
     "output_type": "execute_result"
    }
   ],
   "source": [
    "#total:normal distribution for each column\n",
    "mask.count()"
   ]
  },
  {
   "cell_type": "code",
   "execution_count": 34,
   "metadata": {},
   "outputs": [
    {
     "data": {
      "text/plain": [
       "(639, 5)"
      ]
     },
     "execution_count": 34,
     "metadata": {},
     "output_type": "execute_result"
    }
   ],
   "source": [
    "mask.shape"
   ]
  },
  {
   "cell_type": "code",
   "execution_count": 35,
   "metadata": {},
   "outputs": [],
   "source": [
    "# Ways to convert categorical values to numeric values"
   ]
  },
  {
   "cell_type": "markdown",
   "metadata": {},
   "source": [
    " Encoding categorical values to numeric values\n",
    " Gender and Smoke -nominal data ---- 1st LabelEncoding ,and then One Hot Encoding\n",
    " Gender and Smoke is in String  we need to encode it to numeric value"
   ]
  },
  {
   "cell_type": "markdown",
   "metadata": {},
   "source": [
    "\n",
    "from sklearn.preprocessing import LabelEncoder,OneHotEncoder"
   ]
  },
  {
   "cell_type": "code",
   "execution_count": 36,
   "metadata": {},
   "outputs": [],
   "source": [
    "# for Smoke and Gender ----> Label Encoding\n",
    "#le=LabelEncoder()\n",
    "#X[:,2]=le.fit_transform(X[:,2])\n",
    "#X[:,3]=le.fit_transform(X[:,3])"
   ]
  },
  {
   "cell_type": "markdown",
   "metadata": {},
   "source": [
    "12.1.2 ColumnTransformer -- v 0.22\n",
    " ohe=OneHotEncoder(categorical_features=[3]) X=ohe.fit_transform(X).toarray() print(X.shape)\n",
    "What one hot encoding does is, it takes a column which has categorical data, which has been label encoded,\n",
    "and then splits the column into multiple columns. \n",
    "The numbers are replaced by 1s and 0s, depending on which column has what value. \n"
   ]
  },
  {
   "cell_type": "markdown",
   "metadata": {},
   "source": [
    "#sklearn ver 0.22\n",
    "from sklearn.preprocessing import OneHotEncoder\n",
    "from sklearn.compose import ColumnTransformer\n",
    "ct=ColumnTransformer(\n",
    "        [('one_hot_encoder',OneHotEncoder(categories='auto'),[3])],\n",
    "    # The column numbers to be transformed\n",
    "    remainder='passthrough'\n",
    "    # leave the rest of the columns untouched \n",
    ")\n",
    "X=ct.fit_transform(X)"
   ]
  },
  {
   "cell_type": "markdown",
   "metadata": {},
   "source": [
    " The get_dummies() function is used to convert categorical variable into dummy/indicator variables.\n",
    "pandas has get_dummies(), which has a parameter drop_first you can set to True ---\n",
    "to drop the first dummy variable column for each\n"
   ]
  },
  {
   "cell_type": "code",
   "execution_count": 37,
   "metadata": {},
   "outputs": [],
   "source": [
    "column_names_for_onehot = df.columns[3:]\n",
    "df= pd.get_dummies(df, columns=column_names_for_onehot, drop_first=True)"
   ]
  },
  {
   "cell_type": "code",
   "execution_count": 38,
   "metadata": {},
   "outputs": [
    {
     "data": {
      "text/html": [
       "<div>\n",
       "<style scoped>\n",
       "    .dataframe tbody tr th:only-of-type {\n",
       "        vertical-align: middle;\n",
       "    }\n",
       "\n",
       "    .dataframe tbody tr th {\n",
       "        vertical-align: top;\n",
       "    }\n",
       "\n",
       "    .dataframe thead th {\n",
       "        text-align: right;\n",
       "    }\n",
       "</style>\n",
       "<table border=\"1\" class=\"dataframe\">\n",
       "  <thead>\n",
       "    <tr style=\"text-align: right;\">\n",
       "      <th></th>\n",
       "      <th>LungCap</th>\n",
       "      <th>Age</th>\n",
       "      <th>Height</th>\n",
       "      <th>Gender_male</th>\n",
       "      <th>Smoke_yes</th>\n",
       "    </tr>\n",
       "  </thead>\n",
       "  <tbody>\n",
       "    <tr>\n",
       "      <th>0</th>\n",
       "      <td>3.124</td>\n",
       "      <td>9</td>\n",
       "      <td>57.0</td>\n",
       "      <td>0</td>\n",
       "      <td>0</td>\n",
       "    </tr>\n",
       "    <tr>\n",
       "      <th>1</th>\n",
       "      <td>3.172</td>\n",
       "      <td>8</td>\n",
       "      <td>67.5</td>\n",
       "      <td>0</td>\n",
       "      <td>0</td>\n",
       "    </tr>\n",
       "    <tr>\n",
       "      <th>2</th>\n",
       "      <td>3.160</td>\n",
       "      <td>7</td>\n",
       "      <td>54.5</td>\n",
       "      <td>0</td>\n",
       "      <td>0</td>\n",
       "    </tr>\n",
       "    <tr>\n",
       "      <th>3</th>\n",
       "      <td>2.674</td>\n",
       "      <td>9</td>\n",
       "      <td>53.0</td>\n",
       "      <td>1</td>\n",
       "      <td>0</td>\n",
       "    </tr>\n",
       "    <tr>\n",
       "      <th>4</th>\n",
       "      <td>3.685</td>\n",
       "      <td>9</td>\n",
       "      <td>57.0</td>\n",
       "      <td>1</td>\n",
       "      <td>0</td>\n",
       "    </tr>\n",
       "    <tr>\n",
       "      <th>...</th>\n",
       "      <td>...</td>\n",
       "      <td>...</td>\n",
       "      <td>...</td>\n",
       "      <td>...</td>\n",
       "      <td>...</td>\n",
       "    </tr>\n",
       "    <tr>\n",
       "      <th>649</th>\n",
       "      <td>10.810</td>\n",
       "      <td>16</td>\n",
       "      <td>67.0</td>\n",
       "      <td>1</td>\n",
       "      <td>1</td>\n",
       "    </tr>\n",
       "    <tr>\n",
       "      <th>650</th>\n",
       "      <td>9.181</td>\n",
       "      <td>15</td>\n",
       "      <td>68.0</td>\n",
       "      <td>1</td>\n",
       "      <td>1</td>\n",
       "    </tr>\n",
       "    <tr>\n",
       "      <th>651</th>\n",
       "      <td>6.559</td>\n",
       "      <td>18</td>\n",
       "      <td>60.0</td>\n",
       "      <td>0</td>\n",
       "      <td>0</td>\n",
       "    </tr>\n",
       "    <tr>\n",
       "      <th>652</th>\n",
       "      <td>6.385</td>\n",
       "      <td>16</td>\n",
       "      <td>63.0</td>\n",
       "      <td>0</td>\n",
       "      <td>1</td>\n",
       "    </tr>\n",
       "    <tr>\n",
       "      <th>653</th>\n",
       "      <td>7.633</td>\n",
       "      <td>15</td>\n",
       "      <td>66.5</td>\n",
       "      <td>0</td>\n",
       "      <td>0</td>\n",
       "    </tr>\n",
       "  </tbody>\n",
       "</table>\n",
       "<p>651 rows × 5 columns</p>\n",
       "</div>"
      ],
      "text/plain": [
       "     LungCap  Age  Height  Gender_male  Smoke_yes\n",
       "0      3.124    9    57.0            0          0\n",
       "1      3.172    8    67.5            0          0\n",
       "2      3.160    7    54.5            0          0\n",
       "3      2.674    9    53.0            1          0\n",
       "4      3.685    9    57.0            1          0\n",
       "..       ...  ...     ...          ...        ...\n",
       "649   10.810   16    67.0            1          1\n",
       "650    9.181   15    68.0            1          1\n",
       "651    6.559   18    60.0            0          0\n",
       "652    6.385   16    63.0            0          1\n",
       "653    7.633   15    66.5            0          0\n",
       "\n",
       "[651 rows x 5 columns]"
      ]
     },
     "execution_count": 38,
     "metadata": {},
     "output_type": "execute_result"
    }
   ],
   "source": [
    "df"
   ]
  },
  {
   "cell_type": "code",
   "execution_count": 39,
   "metadata": {},
   "outputs": [
    {
     "data": {
      "text/plain": [
       "0    587\n",
       "1     64\n",
       "Name: Smoke_yes, dtype: int64"
      ]
     },
     "execution_count": 39,
     "metadata": {},
     "output_type": "execute_result"
    }
   ],
   "source": [
    "# Smoke: yes=1,no=0\n",
    "df[\"Smoke_yes\"].value_counts()"
   ]
  },
  {
   "cell_type": "code",
   "execution_count": 40,
   "metadata": {},
   "outputs": [
    {
     "data": {
      "text/plain": [
       "1    335\n",
       "0    316\n",
       "Name: Gender_male, dtype: int64"
      ]
     },
     "execution_count": 40,
     "metadata": {},
     "output_type": "execute_result"
    }
   ],
   "source": [
    "# Gender :  male=1,female=0\n",
    "df[\"Gender_male\"].value_counts()"
   ]
  },
  {
   "cell_type": "code",
   "execution_count": 41,
   "metadata": {},
   "outputs": [],
   "source": [
    "#Finding the relations between the variables.\n",
    "correlation=df.corr()"
   ]
  },
  {
   "cell_type": "code",
   "execution_count": 42,
   "metadata": {},
   "outputs": [
    {
     "data": {
      "text/plain": [
       "LungCap        1.000000\n",
       "Age            0.756581\n",
       "Height         0.868084\n",
       "Gender_male    0.209537\n",
       "Smoke_yes      0.243566\n",
       "Name: LungCap, dtype: float64"
      ]
     },
     "execution_count": 42,
     "metadata": {},
     "output_type": "execute_result"
    }
   ],
   "source": [
    "# find  correlation with LungCap\n",
    "df.corr()[\"LungCap\"]"
   ]
  },
  {
   "cell_type": "markdown",
   "metadata": {},
   "source": [
    " ***To fit a linear regression model, we select those features which have a high correlation with our target variable \"LungCap\",\n",
    " By looking at the correlation matrix we can see that Height and Age  has a strong positive correlation with \"LungCap\" (0.87,0.76 resp) (also check for  high negative correlation)\n",
    "\n",
    "  **** An important point in selecting features for a linear regression model is to check for multi-co-linearity ---> that is correlation between independent features . (for eg ,The features RAD, TAX have a correlation of 0.91. These feature pairs are strongly correlated to each other. We should not select both these features together for training the model.)\n",
    "  Here Age and Height have a corelation of 0.79\n",
    "\n"
   ]
  },
  {
   "cell_type": "code",
   "execution_count": 43,
   "metadata": {},
   "outputs": [
    {
     "data": {
      "text/plain": [
       "<matplotlib.axes._subplots.AxesSubplot at 0x20cdd424128>"
      ]
     },
     "execution_count": 43,
     "metadata": {},
     "output_type": "execute_result"
    },
    {
     "data": {
      "image/png": "[encoded data removed]",
      "text/plain": [
       "<Figure size 720x360 with 2 Axes>"
      ]
     },
     "metadata": {},
     "output_type": "display_data"
    }
   ],
   "source": [
    "# from the figure,  height is highly correlated to Lung Capacity\n",
    "plt.figure(figsize=(10,5))\n",
    "sns.heatmap(correlation,cmap=\"BrBG\",annot=True)"
   ]
  },
  {
   "cell_type": "markdown",
   "metadata": {},
   "source": [
    "***Another way to plot scatter plot :-Based on the above observations we will have Height  and Age as our features.\n",
    "Using a scatter plot let’s see how these features vary with 'LungCap'. (to show in single figure)"
   ]
  },
  {
   "cell_type": "code",
   "execution_count": 69,
   "metadata": {},
   "outputs": [
    {
     "data": {
      "image/png": "[encoded data removed]",
      "text/plain": [
       "<Figure size 1440x360 with 2 Axes>"
      ]
     },
     "metadata": {},
     "output_type": "display_data"
    }
   ],
   "source": [
    "plt.figure(figsize=(20, 5))\n",
    "\n",
    "features = ['Age', 'Height']\n",
    "target =df['LungCap']\n",
    "# The enumerate() function adds a counter as the key of the enumerate object\n",
    "# (here features are objects assigned to col and key or index of object to i)\n",
    "\n",
    "for i, col in enumerate(features):\n",
    "    #Add a subplot to the current figure.\n",
    "    # syntax: subplot(nrows =1 , ncols= len(features), index=i+1, **kwargs)\n",
    "    plt.subplot(1, len(features) , i+1)\n",
    "    x = df[col]\n",
    "    y = target\n",
    "    plt.scatter(x, y, marker='o')\n",
    "    plt.title(col)\n",
    "    plt.xlabel(col)\n",
    "    plt.ylabel('LungCap')"
   ]
  },
  {
   "cell_type": "markdown",
   "metadata": {},
   "source": [
    "**** Observation:- **** \n",
    "The 'LungCap' increase as the value of 'Age', 'Height' increases linearly. There are few outliers "
   ]
  },
  {
   "cell_type": "markdown",
   "metadata": {},
   "source": [
    "#  With Outliers"
   ]
  },
  {
   "cell_type": "code",
   "execution_count": 44,
   "metadata": {},
   "outputs": [
    {
     "data": {
      "text/html": [
       "<div>\n",
       "<style scoped>\n",
       "    .dataframe tbody tr th:only-of-type {\n",
       "        vertical-align: middle;\n",
       "    }\n",
       "\n",
       "    .dataframe tbody tr th {\n",
       "        vertical-align: top;\n",
       "    }\n",
       "\n",
       "    .dataframe thead th {\n",
       "        text-align: right;\n",
       "    }\n",
       "</style>\n",
       "<table border=\"1\" class=\"dataframe\">\n",
       "  <thead>\n",
       "    <tr style=\"text-align: right;\">\n",
       "      <th></th>\n",
       "      <th>LungCap</th>\n",
       "      <th>Age</th>\n",
       "      <th>Height</th>\n",
       "      <th>Gender_male</th>\n",
       "      <th>Smoke_yes</th>\n",
       "    </tr>\n",
       "  </thead>\n",
       "  <tbody>\n",
       "    <tr>\n",
       "      <th>count</th>\n",
       "      <td>651.000000</td>\n",
       "      <td>651.000000</td>\n",
       "      <td>651.000000</td>\n",
       "      <td>651.000000</td>\n",
       "      <td>651.000000</td>\n",
       "    </tr>\n",
       "    <tr>\n",
       "      <th>mean</th>\n",
       "      <td>5.909106</td>\n",
       "      <td>9.929339</td>\n",
       "      <td>61.145776</td>\n",
       "      <td>0.514593</td>\n",
       "      <td>0.098310</td>\n",
       "    </tr>\n",
       "    <tr>\n",
       "      <th>std</th>\n",
       "      <td>2.605618</td>\n",
       "      <td>2.957325</td>\n",
       "      <td>5.712709</td>\n",
       "      <td>0.500171</td>\n",
       "      <td>0.297963</td>\n",
       "    </tr>\n",
       "    <tr>\n",
       "      <th>min</th>\n",
       "      <td>0.373000</td>\n",
       "      <td>3.000000</td>\n",
       "      <td>46.000000</td>\n",
       "      <td>0.000000</td>\n",
       "      <td>0.000000</td>\n",
       "    </tr>\n",
       "    <tr>\n",
       "      <th>25%</th>\n",
       "      <td>3.925000</td>\n",
       "      <td>8.000000</td>\n",
       "      <td>57.000000</td>\n",
       "      <td>0.000000</td>\n",
       "      <td>0.000000</td>\n",
       "    </tr>\n",
       "    <tr>\n",
       "      <th>50%</th>\n",
       "      <td>5.635000</td>\n",
       "      <td>10.000000</td>\n",
       "      <td>61.500000</td>\n",
       "      <td>1.000000</td>\n",
       "      <td>0.000000</td>\n",
       "    </tr>\n",
       "    <tr>\n",
       "      <th>75%</th>\n",
       "      <td>7.351000</td>\n",
       "      <td>12.000000</td>\n",
       "      <td>65.500000</td>\n",
       "      <td>1.000000</td>\n",
       "      <td>0.000000</td>\n",
       "    </tr>\n",
       "    <tr>\n",
       "      <th>max</th>\n",
       "      <td>15.379000</td>\n",
       "      <td>19.000000</td>\n",
       "      <td>74.000000</td>\n",
       "      <td>1.000000</td>\n",
       "      <td>1.000000</td>\n",
       "    </tr>\n",
       "  </tbody>\n",
       "</table>\n",
       "</div>"
      ],
      "text/plain": [
       "          LungCap         Age      Height  Gender_male   Smoke_yes\n",
       "count  651.000000  651.000000  651.000000   651.000000  651.000000\n",
       "mean     5.909106    9.929339   61.145776     0.514593    0.098310\n",
       "std      2.605618    2.957325    5.712709     0.500171    0.297963\n",
       "min      0.373000    3.000000   46.000000     0.000000    0.000000\n",
       "25%      3.925000    8.000000   57.000000     0.000000    0.000000\n",
       "50%      5.635000   10.000000   61.500000     1.000000    0.000000\n",
       "75%      7.351000   12.000000   65.500000     1.000000    0.000000\n",
       "max     15.379000   19.000000   74.000000     1.000000    1.000000"
      ]
     },
     "execution_count": 44,
     "metadata": {},
     "output_type": "execute_result"
    }
   ],
   "source": [
    "df.describe()"
   ]
  },
  {
   "cell_type": "code",
   "execution_count": 45,
   "metadata": {},
   "outputs": [],
   "source": [
    "\n",
    "#X should in 2D matrix and y be 1D"
   ]
  },
  {
   "cell_type": "code",
   "execution_count": 46,
   "metadata": {},
   "outputs": [],
   "source": [
    "X=df.iloc[:,1:5].values\n",
    "y=df.iloc[:,0].values"
   ]
  },
  {
   "cell_type": "code",
   "execution_count": 47,
   "metadata": {},
   "outputs": [
    {
     "name": "stdout",
     "output_type": "stream",
     "text": [
      "(651, 4) (651,)\n"
     ]
    }
   ],
   "source": [
    "print(X.shape,y.shape)\n"
   ]
  },
  {
   "cell_type": "code",
   "execution_count": 48,
   "metadata": {},
   "outputs": [],
   "source": [
    "# for na values - to convert na values to mean \n",
    "#by default SimpleImputer fill na with mean values of individual column"
   ]
  },
  {
   "cell_type": "code",
   "execution_count": 49,
   "metadata": {},
   "outputs": [
    {
     "name": "stdout",
     "output_type": "stream",
     "text": [
      "[[ 9.  57.   0.   0. ]\n",
      " [ 8.  67.5  0.   0. ]\n",
      " [ 7.  54.5  0.   0. ]\n",
      " ...\n",
      " [18.  60.   0.   0. ]\n",
      " [16.  63.   0.   1. ]\n",
      " [15.  66.5  0.   0. ]]\n"
     ]
    }
   ],
   "source": [
    "\n",
    "#from sklearn.preprocessing import SimpleImputer\n",
    "from sklearn.impute import SimpleImputer\n",
    "# Imputer class-used to fill na values\n",
    "# 1. Import class\n",
    "# 2.create an instance of that class\n",
    "# 3.Fit instance on data and transform the data \n",
    "\n",
    "si=SimpleImputer()\n",
    "# by default SimpleImputer fills na values with the mean value of individual column\n",
    "X[:,1:]=si.fit_transform(X[:,1:])\n",
    "print(X[:,0:])"
   ]
  },
  {
   "cell_type": "code",
   "execution_count": 73,
   "metadata": {},
   "outputs": [],
   "source": [
    "# split data into training set and testing set\n",
    "from sklearn.model_selection import train_test_split\n",
    "# use R2 score to measure the accuracy of our model.\n",
    "from sklearn.metrics import r2_score\n",
    "from sklearn.linear_model import LinearRegression\n",
    "from sklearn.metrics import mean_squared_error\n"
   ]
  },
  {
   "cell_type": "code",
   "execution_count": 114,
   "metadata": {},
   "outputs": [],
   "source": [
    "# seed value =random_state --- decide the accuracy \n",
    "X_train,X_test,y_train,y_test=train_test_split(X,y,test_size=0.2,random_state=0)"
   ]
  },
  {
   "cell_type": "code",
   "execution_count": 115,
   "metadata": {},
   "outputs": [
    {
     "name": "stdout",
     "output_type": "stream",
     "text": [
      "(520, 4) (131, 4) (520,) (131,)\n"
     ]
    }
   ],
   "source": [
    "print(X_train.shape,X_test.shape,y_train.shape,y_test.shape)"
   ]
  },
  {
   "cell_type": "code",
   "execution_count": 116,
   "metadata": {},
   "outputs": [
    {
     "data": {
      "text/plain": [
       "LinearRegression(copy_X=True, fit_intercept=True, n_jobs=None, normalize=False)"
      ]
     },
     "execution_count": 116,
     "metadata": {},
     "output_type": "execute_result"
    }
   ],
   "source": [
    "model=LinearRegression()\n",
    "# training data to fit model\n",
    "model.fit(X_train,y_train) # this model.fit figure out coeff and intercept\n",
    "\n"
   ]
  },
  {
   "cell_type": "markdown",
   "metadata": {},
   "source": [
    "# To check the accuracy of model\n",
    "#Model evaluation for training dataset and testing dataset\n",
    "#We will evaluate our model using RMSE- (root mean squared error )and R2-score. "
   ]
  },
  {
   "cell_type": "code",
   "execution_count": 117,
   "metadata": {},
   "outputs": [
    {
     "name": "stdout",
     "output_type": "stream",
     "text": [
      "The model performance for training set\n",
      "--------------------------------------\n",
      "RMSE is 1.2288692059799968\n",
      "R2 score is 0.7759044946554602\n",
      "\n",
      "\n",
      "The model performance for testing set\n",
      "--------------------------------------\n",
      "RMSE is 1.268258673703638\n",
      "R2 score is 0.7678947818551977\n",
      "\n",
      "\n"
     ]
    }
   ],
   "source": [
    "# model evaluation for training set\n",
    "\n",
    "#predict the values on the X_training data for y_train_predict\n",
    "y_train_pred = model.predict(X_train)\n",
    "# RMSE on training dataset\n",
    "rmse_train= (np.sqrt(mean_squared_error(y_train, y_train_pred)))\n",
    "# R2 on training dataset\n",
    "r2_train = r2_score(y_train, y_train_pred)\n",
    "\n",
    "print(\"The model performance for training set\")\n",
    "print(\"--------------------------------------\")\n",
    "print('RMSE is {}'.format(rmse_train))\n",
    "print('R2 score is {}'.format(r2_train))\n",
    "print(\"\\n\")\n",
    "\n",
    "\n",
    "# model evaluation for training set\n",
    "\n",
    "#predict the values on the X_test data for y_test_pred\n",
    "y_test_pred = model.predict(X_test)\n",
    "\n",
    "# # root mean square error of the model- RMSE on testing dataset\n",
    "rmse_test= (np.sqrt(mean_squared_error(y_test, y_test_pred)))\n",
    "\n",
    "\n",
    "# r-squared score of the model - R2 on training dataset\n",
    "r2_test = r2_score(y_test, y_test_pred)\n",
    "\n",
    "print(\"The model performance for testing set\")\n",
    "print(\"--------------------------------------\")\n",
    "print('RMSE is {}'.format(rmse_test))\n",
    "print('R2 score is {}'.format(r2_test))\n",
    "print(\"\\n\")\n"
   ]
  },
  {
   "cell_type": "code",
   "execution_count": 154,
   "metadata": {},
   "outputs": [
    {
     "data": {
      "image/png": "[encoded data removed]",
      "text/plain": [
       "<Figure size 842.4x595.44 with 1 Axes>"
      ]
     },
     "metadata": {},
     "output_type": "display_data"
    }
   ],
   "source": [
    "# plotting the y_test vs y_pred\n",
    "# ideally should have been a straight line\n",
    "plt.scatter(y_test, y_test_pred)\n",
    "#plt.plot(X, y_pred, color='r')\n",
    "plt.show()"
   ]
  },
  {
   "cell_type": "code",
   "execution_count": 119,
   "metadata": {},
   "outputs": [
    {
     "name": "stdout",
     "output_type": "stream",
     "text": [
      "[ 0.16441295  0.32631283  0.35799367 -0.11252285]\n",
      "-15.86684704773926\n"
     ]
    }
   ],
   "source": [
    "# coefficient  & intercept\n",
    "print(model.coef_) \n",
    "print(model.intercept_)"
   ]
  },
  {
   "cell_type": "code",
   "execution_count": 120,
   "metadata": {},
   "outputs": [
    {
     "name": "stdout",
     "output_type": "stream",
     "text": [
      "Predicted Lung Capacity : [3.39314931]\n"
     ]
    }
   ],
   "source": [
    "# To Predict:-\n",
    "#predict the Lung Capacity of an individual's Age =6 ,Height = 56 ,Gender= female (0) and Smoking habits = 0(no):\n",
    "newX1=np.array([6,56,0,0]).reshape(1,4)\n",
    "predictedLungCap = model.predict(newX1)\n",
    "print(\"Predicted Lung Capacity :\",predictedLungCap)"
   ]
  },
  {
   "cell_type": "markdown",
   "metadata": {},
   "source": [
    "#  With masking outliers"
   ]
  },
  {
   "cell_type": "markdown",
   "metadata": {},
   "source": [
    " The get_dummies() function is used to convert categorical variable into dummy/indicator variables. \n",
    "pandas has get_dummies(), which has a parameter drop_first you can set to True --- to drop the first dummy variable column for each\n"
   ]
  },
  {
   "cell_type": "code",
   "execution_count": 121,
   "metadata": {},
   "outputs": [],
   "source": [
    "column_names_for_onehot_m = mask.columns[3:]\n",
    "df_m= pd.get_dummies(mask, columns=column_names_for_onehot_m, drop_first=True)\n"
   ]
  },
  {
   "cell_type": "code",
   "execution_count": 122,
   "metadata": {},
   "outputs": [],
   "source": [
    "#X should in 2D matrix and y be 1D"
   ]
  },
  {
   "cell_type": "code",
   "execution_count": 123,
   "metadata": {},
   "outputs": [],
   "source": [
    "X_m=df_m.iloc[:,1:5].values\n",
    "y_m=df_m.iloc[:,0].values"
   ]
  },
  {
   "cell_type": "code",
   "execution_count": 124,
   "metadata": {},
   "outputs": [
    {
     "name": "stdout",
     "output_type": "stream",
     "text": [
      "(639, 4) (639,)\n"
     ]
    }
   ],
   "source": [
    "print(X_m.shape,y_m.shape)"
   ]
  },
  {
   "cell_type": "code",
   "execution_count": 125,
   "metadata": {},
   "outputs": [],
   "source": [
    "# seed value =random_state --- decide the accuracy \n",
    "X_train_m,X_test_m,y_train_m,y_test_m=train_test_split(X_m,y_m,test_size=0.2,random_state=0)"
   ]
  },
  {
   "cell_type": "code",
   "execution_count": 126,
   "metadata": {},
   "outputs": [
    {
     "name": "stdout",
     "output_type": "stream",
     "text": [
      "(511, 4) (128, 4) (511,) (128,)\n"
     ]
    }
   ],
   "source": [
    "print(X_train_m.shape,X_test_m.shape,y_train_m.shape,y_test_m.shape)"
   ]
  },
  {
   "cell_type": "code",
   "execution_count": 127,
   "metadata": {},
   "outputs": [
    {
     "data": {
      "text/plain": [
       "LinearRegression(copy_X=True, fit_intercept=True, n_jobs=None, normalize=False)"
      ]
     },
     "execution_count": 127,
     "metadata": {},
     "output_type": "execute_result"
    }
   ],
   "source": [
    "model_m=LinearRegression()\n",
    "# training data to fit model\n",
    "model_m.fit(X_train_m,y_train_m) # this model.fit figure out coeff and intercept"
   ]
  },
  {
   "cell_type": "markdown",
   "metadata": {},
   "source": [
    "\n",
    "# To check the accuracy of model\n",
    "\n",
    "#Model evaluation for training dataset and testing dataset\n",
    "\n",
    "#We will evaluate our model using RMSE- (root mean squared error )and R2-score.\n",
    "\n"
   ]
  },
  {
   "cell_type": "code",
   "execution_count": 128,
   "metadata": {},
   "outputs": [
    {
     "name": "stdout",
     "output_type": "stream",
     "text": [
      "The model performance for training set\n",
      "--------------------------------------\n",
      "RMSE is 1.1749640615505346\n",
      "R2 score is 0.7616520869154904\n",
      "\n",
      "\n",
      "The model performance for testing set\n",
      "--------------------------------------\n",
      "RMSE is 1.1177924101105734\n",
      "R2 score is 0.8071055231510541\n",
      "\n",
      "\n"
     ]
    }
   ],
   "source": [
    "# model evaluation for training set\n",
    "\n",
    "#predict the values on the X_training data for y_train_predict\n",
    "y_train_pred_m = model_m.predict(X_train_m)\n",
    "# RMSE on training dataset\n",
    "rmse_train_m= (np.sqrt(mean_squared_error(y_train_m, y_train_pred_m)))\n",
    "# R2 on training dataset\n",
    "r2_train_m = r2_score(y_train_m, y_train_pred_m)\n",
    "\n",
    "print(\"The model performance for training set\")\n",
    "print(\"--------------------------------------\")\n",
    "print('RMSE is {}'.format(rmse_train_m))\n",
    "print('R2 score is {}'.format(r2_train_m))\n",
    "print(\"\\n\")\n",
    "\n",
    "\n",
    "# model evaluation for training set\n",
    "\n",
    "#predict the values on the X_test data for y_test_pred\n",
    "y_test_pred_m = model_m.predict(X_test_m)\n",
    "\n",
    "# # root mean square error of the model- RMSE on testing dataset\n",
    "rmse_test_m= (np.sqrt(mean_squared_error(y_test_m, y_test_pred_m)))\n",
    "\n",
    "\n",
    "# r-squared score of the model - R2 on training dataset\n",
    "r2_test_m = r2_score(y_test_m, y_test_pred_m)\n",
    "\n",
    "print(\"The model performance for testing set\")\n",
    "print(\"--------------------------------------\")\n",
    "print('RMSE is {}'.format(rmse_test_m))\n",
    "print('R2 score is {}'.format(r2_test_m))\n",
    "print(\"\\n\")\n"
   ]
  },
  {
   "cell_type": "code",
   "execution_count": 146,
   "metadata": {},
   "outputs": [
    {
     "data": {
      "image/png": "[encoded data removed]",
      "text/plain": [
       "<Figure size 842.4x595.44 with 1 Axes>"
      ]
     },
     "metadata": {},
     "output_type": "display_data"
    }
   ],
   "source": [
    "# plotting the y_test_m vs y_pred_m\n",
    "# ideally should have been a straight line\n",
    "plt.scatter(y_test_m, y_test_pred_m)\n",
    "#plt.plot(y_test_m, y_test_pred_m, color='r')\n",
    "plt.show()"
   ]
  },
  {
   "cell_type": "code",
   "execution_count": 129,
   "metadata": {},
   "outputs": [
    {
     "name": "stdout",
     "output_type": "stream",
     "text": [
      "[ 0.15973055  0.30691941  0.32654516 -0.06666564]\n",
      "-14.681789255103514\n"
     ]
    }
   ],
   "source": [
    "# coefficient  & intercept\n",
    "print(model_m.coef_) \n",
    "print(model_m.intercept_)"
   ]
  },
  {
   "cell_type": "markdown",
   "metadata": {},
   "source": [
    "# As observed Accuracy without outliers is more than with outliers"
   ]
  },
  {
   "cell_type": "markdown",
   "metadata": {},
   "source": [
    "Now we have a regression object that are ready to predict Lung Capacity values \n",
    "based on a individual's Age,Height ,Gender and Smoking habits:"
   ]
  },
  {
   "cell_type": "code",
   "execution_count": 141,
   "metadata": {},
   "outputs": [],
   "source": [
    "#predict the Lung Capacity of an individual's Age = 6,Height = 56 ,Gender= male (0) and Smoking habits = 0 (no):\n",
    "newX=np.array([9,60,1,0]).reshape(1,4)\n",
    "# matched shape of X\n",
    "# apply same preprocessing while training the model"
   ]
  },
  {
   "cell_type": "code",
   "execution_count": 142,
   "metadata": {},
   "outputs": [
    {
     "name": "stdout",
     "output_type": "stream",
     "text": [
      "Predicted Lung Capacity : [5.49749531]\n"
     ]
    }
   ],
   "source": [
    "predictedLungCap = model_m.predict(newX)\n",
    "print(\"Predicted Lung Capacity :\",predictedLungCap)"
   ]
  },
  {
   "cell_type": "markdown",
   "metadata": {},
   "source": []
  },
  {
   "cell_type": "code",
   "execution_count": 137,
   "metadata": {},
   "outputs": [],
   "source": [
    "#predict the Lung Capacity of an individual's Age = 8 ,Height = 60 ,Gender= male (1) and Smoking habits = 1 (yes):\n",
    "newX1=np.array([8,58.5,0,0]).reshape(1,4)\n",
    "predictedLungCap = model_m.predict(newX1)"
   ]
  },
  {
   "cell_type": "code",
   "execution_count": 138,
   "metadata": {},
   "outputs": [
    {
     "name": "stdout",
     "output_type": "stream",
     "text": [
      "Predicted Lung Capacity : [4.55084048]\n"
     ]
    }
   ],
   "source": [
    "print(\"Predicted Lung Capacity :\",predictedLungCap)"
   ]
  },
  {
   "cell_type": "code",
   "execution_count": null,
   "metadata": {},
   "outputs": [],
   "source": [
    "# To validate co-eff:- \n",
    "4.36386003 + (0.16334546 * 1)+(0.30291861*2.5)"
   ]
  },
  {
   "cell_type": "code",
   "execution_count": null,
   "metadata": {},
   "outputs": [],
   "source": [
    "### add predicated column in dataset"
   ]
  }
 ],
 "metadata": {
  "kernelspec": {
   "display_name": "Python 3 (ipykernel)",
   "language": "python",
   "name": "python3"
  },
  "language_info": {
   "codemirror_mode": {
    "name": "ipython",
    "version": 3
   },
   "file_extension": ".py",
   "mimetype": "text/x-python",
   "name": "python",
   "nbconvert_exporter": "python",
   "pygments_lexer": "ipython3",
   "version": "3.9.7"
  }
 },
 "nbformat": 4,
 "nbformat_minor": 4
}
